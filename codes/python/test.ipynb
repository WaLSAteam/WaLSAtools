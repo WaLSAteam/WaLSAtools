{
 "cells": [
  {
   "cell_type": "code",
   "execution_count": 2,
   "metadata": {},
   "outputs": [
    {
     "data": {
      "text/html": [
       "<img src=\"/Users/Shahin/WaLSA/WaLSAtools/codes/python/WaLSAtools/analysis_modules/../assets/WaLSA_logo.png\" style=\"margin-left: 40px; margin-top: 20px; width:300px; height: auto;\">"
      ],
      "text/plain": [
       "<IPython.core.display.HTML object>"
      ]
     },
     "metadata": {},
     "output_type": "display_data"
    },
    {
     "data": {
      "text/html": [
       "\n",
       "        <div style=\"margin-left: 30px; margin-top: 20px; font-size: 1.1em; line-height: 0.8;\">\n",
       "            <p>© WaLSA Team (<a href=\"https://www.WaLSA.team\" target=\"_blank\">www.WaLSA.team</a>)</p>\n",
       "            <hr style=\"width: 70%; margin: 0; border: 0.98px solid #888;\">\n",
       "            <p><strong>WaLSAtools</strong> v1.0 - Wave analysis tools</p>\n",
       "            <p>Documentation: <a href=\"https://www.WaLSA.tools\" target=\"_blank\">www.WaLSA.tools</a></p>\n",
       "            <p>GitHub repository: <a href=\"https://www.github.com/WaLSAteam/WaLSAtools\" target=\"_blank\">www.github.com/WaLSAteam/WaLSAtools</a></p>\n",
       "            <hr style=\"width: 70%; margin: 0; border: 0.98px solid #888;\">\n",
       "            <p>If you use <strong>WaLSAtools</strong> in your research, please cite:</p>\n",
       "            <p>Jafarzadeh, S., Jess, D. B., Stangalini, M. et al. 2025, <em>Nature Reviews Methods Primers</em>, in press</p>\n",
       "            <hr style=\"width: 70%; margin: 0; border: 0.98px solid #888;\">\n",
       "        </div>\n",
       "    "
      ],
      "text/plain": [
       "<IPython.core.display.HTML object>"
      ]
     },
     "metadata": {},
     "output_type": "display_data"
    },
    {
     "name": "stdout",
     "output_type": "stream",
     "text": [
      "    Choose a category, data type, and analysis method from the list below,\n",
      "    to get hints on the calling sequence and parameters:\n"
     ]
    },
    {
     "data": {
      "application/vnd.jupyter.widget-view+json": {
       "model_id": "8c5fa26ac78742909d97e194d8b6fbbb",
       "version_major": 2,
       "version_minor": 0
      },
      "text/plain": [
       "Dropdown(description='Category:', options=('Select Category', 'a: Single time series analysis', 'b: Cross-corr…"
      ]
     },
     "metadata": {},
     "output_type": "display_data"
    },
    {
     "data": {
      "application/vnd.jupyter.widget-view+json": {
       "model_id": "75d29daf6ce64b878e88462a16dfa26a",
       "version_major": 2,
       "version_minor": 0
      },
      "text/plain": [
       "Dropdown(description='Data Type:', options=('Select Data Type',), value='Select Data Type')"
      ]
     },
     "metadata": {},
     "output_type": "display_data"
    },
    {
     "data": {
      "application/vnd.jupyter.widget-view+json": {
       "model_id": "8a49ba52fd27450cac0df6e2fbbf2f7f",
       "version_major": 2,
       "version_minor": 0
      },
      "text/plain": [
       "Dropdown(description='Method:', options=('Select Method',), value='Select Method')"
      ]
     },
     "metadata": {},
     "output_type": "display_data"
    },
    {
     "data": {
      "application/vnd.jupyter.widget-view+json": {
       "model_id": "b4272e01ee504b26b83b9ca68f48fa9e",
       "version_major": 2,
       "version_minor": 0
      },
      "text/plain": [
       "Dropdown(description='Sub-method:', layout=Layout(display='none'), options=('Select Sub-method', '1: FFT', '2:…"
      ]
     },
     "metadata": {},
     "output_type": "display_data"
    },
    {
     "data": {
      "application/vnd.jupyter.widget-view+json": {
       "model_id": "e998c9c01d5e4ac389724f790bea29b2",
       "version_major": 2,
       "version_minor": 0
      },
      "text/plain": [
       "Output()"
      ]
     },
     "metadata": {},
     "output_type": "display_data"
    },
    {
     "data": {
      "text/plain": []
     },
     "execution_count": 2,
     "metadata": {},
     "output_type": "execute_result"
    }
   ],
   "source": [
    "# Interactive Interface\n",
    "# WaLSAtools includes an interactive interface to guide users through the analysis process \n",
    "# by providing the necessary information and tools to perform various types of wave analysis with ease.\n",
    "\n",
    "from WaLSAtools import WaLSAtools\n",
    "WaLSAtools"
   ]
  }
 ],
 "metadata": {
  "kernelspec": {
   "display_name": "Python 3",
   "language": "python",
   "name": "python3"
  },
  "language_info": {
   "codemirror_mode": {
    "name": "ipython",
    "version": 3
   },
   "file_extension": ".py",
   "mimetype": "text/x-python",
   "name": "python",
   "nbconvert_exporter": "python",
   "pygments_lexer": "ipython3",
   "version": "3.12.8"
  }
 },
 "nbformat": 4,
 "nbformat_minor": 2
}
