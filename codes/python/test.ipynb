{
 "cells": [
  {
   "cell_type": "code",
   "execution_count": 3,
   "metadata": {},
   "outputs": [
    {
     "data": {
      "text/html": [
       "<img src=\"/Users/Shahin/WaLSA/WaLSAtools/codes/python/WaLSAtools/analysis_modules/../assets/WaLSA_logo.png\" style=\"margin-left: 40px; margin-top: 20px; width:300px; height: auto;\">"
      ],
      "text/plain": [
       "<IPython.core.display.HTML object>"
      ]
     },
     "metadata": {},
     "output_type": "display_data"
    },
    {
     "data": {
      "text/html": [
       "\n",
       "        <div style=\"margin-left: 30px; margin-top: 20px; font-size: 1.1em; line-height: 0.8;\">\n",
       "            <p>© WaLSA Team (<a href=\"https://www.WaLSA.team\" target=\"_blank\">www.WaLSA.team</a>)</p>\n",
       "            <hr style=\"width: 70%; margin: 0; border: 0.98px solid #888;\">\n",
       "            <p><strong>WaLSAtools</strong> v1.0 - Wave analysis tools</p>\n",
       "            <p>Documentation: <a href=\"https://www.WaLSA.tools\" target=\"_blank\">www.WaLSA.tools</a></p>\n",
       "            <p>GitHub repository: <a href=\"https://www.github.com/WaLSAteam/WaLSAtools\" target=\"_blank\">www.github.com/WaLSAteam/WaLSAtools</a></p>\n",
       "            <hr style=\"width: 70%; margin: 0; border: 0.98px solid #888;\">\n",
       "            <p>If you use <strong>WaLSAtools</strong> in your research, please cite:</p>\n",
       "            <p>Jafarzadeh, S., Jess, D. B., Stangalini, M. et al. 2025, <em>Nature Reviews Methods Primers</em>, in press</p>\n",
       "            <hr style=\"width: 70%; margin: 0; border: 0.98px solid #888;\">\n",
       "        </div>\n",
       "    "
      ],
      "text/plain": [
       "<IPython.core.display.HTML object>"
      ]
     },
     "metadata": {},
     "output_type": "display_data"
    },
    {
     "name": "stdout",
     "output_type": "stream",
     "text": [
      "    Choose a category, data type, and analysis method from the list below,\n",
      "    to get hints on the calling sequence and parameters:\n"
     ]
    },
    {
     "data": {
      "application/vnd.jupyter.widget-view+json": {
       "model_id": "9c9080beb1da4721ad69c1320b20adf3",
       "version_major": 2,
       "version_minor": 0
      },
      "text/plain": [
       "Dropdown(description='Category:', options=('Select Category', 'a: Single time series analysis', 'b: Cross-corr…"
      ]
     },
     "metadata": {},
     "output_type": "display_data"
    },
    {
     "data": {
      "application/vnd.jupyter.widget-view+json": {
       "model_id": "45298dd08eb94bc3abd9505307f15cf9",
       "version_major": 2,
       "version_minor": 0
      },
      "text/plain": [
       "Dropdown(description='Data Type:', options=('Select Data Type',), value='Select Data Type')"
      ]
     },
     "metadata": {},
     "output_type": "display_data"
    },
    {
     "data": {
      "application/vnd.jupyter.widget-view+json": {
       "model_id": "f20e222c5fb84b5dba403e0d2b3d4d8a",
       "version_major": 2,
       "version_minor": 0
      },
      "text/plain": [
       "Dropdown(description='Method:', options=('Select Method',), value='Select Method')"
      ]
     },
     "metadata": {},
     "output_type": "display_data"
    },
    {
     "data": {
      "application/vnd.jupyter.widget-view+json": {
       "model_id": "cb486c7c9eff421ab5f7e89c10098a83",
       "version_major": 2,
       "version_minor": 0
      },
      "text/plain": [
       "Dropdown(description='Sub-method:', layout=Layout(display='none'), options=('Select Sub-method', '1: FFT', '2:…"
      ]
     },
     "metadata": {},
     "output_type": "display_data"
    },
    {
     "data": {
      "application/vnd.jupyter.widget-view+json": {
       "model_id": "c3e7ccb009bf40239c19ac6045e21bb2",
       "version_major": 2,
       "version_minor": 0
      },
      "text/plain": [
       "Output()"
      ]
     },
     "metadata": {},
     "output_type": "display_data"
    },
    {
     "data": {
      "text/plain": []
     },
     "execution_count": 3,
     "metadata": {},
     "output_type": "execute_result"
    }
   ],
   "source": [
    "# Interactive Interface\n",
    "# WaLSAtools includes an interactive interface to guide users through the analysis process \n",
    "# by providing the necessary information and tools to perform various types of wave analysis with ease.\n",
    "\n",
    "from WaLSAtools import WaLSAtools\n",
    "WaLSAtools"
   ]
  }
 ],
 "metadata": {
  "kernelspec": {
   "display_name": "Python 3",
   "language": "python",
   "name": "python3"
  },
  "language_info": {
   "codemirror_mode": {
    "name": "ipython",
    "version": 3
   },
   "file_extension": ".py",
   "mimetype": "text/x-python",
   "name": "python",
   "nbconvert_exporter": "python",
   "pygments_lexer": "ipython3",
   "version": "3.12.8"
  }
 },
 "nbformat": 4,
 "nbformat_minor": 2
}
