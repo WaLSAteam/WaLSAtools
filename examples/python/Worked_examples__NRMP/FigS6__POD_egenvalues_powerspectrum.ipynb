version https://git-lfs.github.com/spec/v1
oid sha256:e6017478e70ee87e9e54985a5e7035bef050f8c9f0196efed9e81f1ed744fec5
size 642431
