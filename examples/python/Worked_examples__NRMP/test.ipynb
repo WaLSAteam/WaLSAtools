{
 "cells": [
  {
   "cell_type": "code",
   "execution_count": 1,
   "metadata": {},
   "outputs": [
    {
     "data": {
      "text/html": [
       "<img src=\"/Users/Shahin/WaLSA/WaLSAtools_Python/WaLSAtools/analysis_modules/../assets/WaLSA_logo.png\" style=\"margin-left: 40px; margin-top: 20px; width:300px; height: auto;\">"
      ],
      "text/plain": [
       "<IPython.core.display.HTML object>"
      ]
     },
     "metadata": {},
     "output_type": "display_data"
    },
    {
     "data": {
      "text/html": [
       "\n",
       "        <div style=\"margin-left: 30px; margin-top: 20px; font-size: 1.1em; line-height: 0.8;\">\n",
       "            <p>© WaLSA Team (<a href=\"https://www.WaLSA.team\" target=\"_blank\">www.WaLSA.team</a>)</p>\n",
       "            <hr style=\"width: 70%; margin: 0; border: 0.98px solid #888;\">\n",
       "            <p><strong>WaLSAtools</strong> v1.0 - Wave analysis tools</p>\n",
       "            <p>Documentation: <a href=\"https://www.WaLSA.tools\" target=\"_blank\">www.WaLSA.tools</a></p>\n",
       "            <p>GitHub repository: <a href=\"https://www.github.com/WaLSAteam/WaLSAtools\" target=\"_blank\">www.github.com/WaLSAteam/WaLSAtools</a></p>\n",
       "            <hr style=\"width: 70%; margin: 0; border: 0.98px solid #888;\">\n",
       "            <p>If you use <strong>WaLSAtools</strong> in your research, please cite:</p>\n",
       "            <p>Jafarzadeh, S., Jess, D. B., Stangalini, M. et al. 2025, <em>Nature Reviews Methods Primers</em>, in press</p>\n",
       "            <hr style=\"width: 70%; margin: 0; border: 0.98px solid #888;\">\n",
       "        </div>\n",
       "    "
      ],
      "text/plain": [
       "<IPython.core.display.HTML object>"
      ]
     },
     "metadata": {},
     "output_type": "display_data"
    },
    {
     "name": "stdout",
     "output_type": "stream",
     "text": [
      "    Choose a category, data type, and analysis method from the list below,\n",
      "    to get hints on the calling sequence and parameters:\n"
     ]
    },
    {
     "data": {
      "application/vnd.jupyter.widget-view+json": {
       "model_id": "4eb92e1680b444508bcfd0184caed35a",
       "version_major": 2,
       "version_minor": 0
      },
      "text/plain": [
       "Dropdown(description='Category:', options=('Select Category', 'a: Single time series analysis', 'b: Cross-corr…"
      ]
     },
     "metadata": {},
     "output_type": "display_data"
    },
    {
     "data": {
      "application/vnd.jupyter.widget-view+json": {
       "model_id": "15c7f4f0a9a0422eaf8ac474465813b1",
       "version_major": 2,
       "version_minor": 0
      },
      "text/plain": [
       "Dropdown(description='Data Type:', options=('Select Data Type',), value='Select Data Type')"
      ]
     },
     "metadata": {},
     "output_type": "display_data"
    },
    {
     "data": {
      "application/vnd.jupyter.widget-view+json": {
       "model_id": "627b2809934a4650b7c47890794731f0",
       "version_major": 2,
       "version_minor": 0
      },
      "text/plain": [
       "Dropdown(description='Method:', options=('Select Method',), value='Select Method')"
      ]
     },
     "metadata": {},
     "output_type": "display_data"
    },
    {
     "data": {
      "application/vnd.jupyter.widget-view+json": {
       "model_id": "460248bd58684e979dd881a05279f6e7",
       "version_major": 2,
       "version_minor": 0
      },
      "text/plain": [
       "Dropdown(description='Sub-method:', layout=Layout(display='none'), options=('Select Sub-method', '1: FFT', '2:…"
      ]
     },
     "metadata": {},
     "output_type": "display_data"
    },
    {
     "data": {
      "application/vnd.jupyter.widget-view+json": {
       "model_id": "7fdcff2f4508461faeaffe37ecf9b8a0",
       "version_major": 2,
       "version_minor": 0
      },
      "text/plain": [
       "Output()"
      ]
     },
     "metadata": {},
     "output_type": "display_data"
    },
    {
     "data": {
      "text/plain": []
     },
     "execution_count": 1,
     "metadata": {},
     "output_type": "execute_result"
    }
   ],
   "source": [
    "from WaLSAtools import WaLSAtools\n",
    "WaLSAtools"
   ]
  }
 ],
 "metadata": {
  "kernelspec": {
   "display_name": "Python 3",
   "language": "python",
   "name": "python3"
  },
  "language_info": {
   "codemirror_mode": {
    "name": "ipython",
    "version": 3
   },
   "file_extension": ".py",
   "mimetype": "text/x-python",
   "name": "python",
   "nbconvert_exporter": "python",
   "pygments_lexer": "ipython3",
   "version": "3.12.8"
  }
 },
 "nbformat": 4,
 "nbformat_minor": 2
}
